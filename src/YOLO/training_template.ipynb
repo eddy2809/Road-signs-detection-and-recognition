{
  "cells": [
    {
      "cell_type": "markdown",
      "metadata": {
        "id": "WSuCWmvnScHD"
      },
      "source": [
        "# Object detection with YOLO: Training and Validation"
      ]
    },
    {
      "cell_type": "markdown",
      "metadata": {
        "id": "cKGhGNKkOO1v"
      },
      "source": [
        "Installiamo e/o aggiorniamo i pacchetti ultralytics (per usare YOLO) e wandb (per tracciare gli esperimenti ML)."
      ]
    },
    {
      "cell_type": "code",
      "execution_count": null,
      "metadata": {
        "id": "7-kWwatUNy6F"
      },
      "outputs": [],
      "source": [
        "!pip install ultralytics -q\n",
        "!pip install -U ultralytics wandb\n",
        "!pip install python-dotenv"
      ]
    },
    {
      "cell_type": "markdown",
      "metadata": {
        "id": "7UGZEfoOOn43"
      },
      "source": [
        "Configuriamo YOLO in modo da abilitare l'integrazione con Weights & Biases (wandb)."
      ]
    },
    {
      "cell_type": "code",
      "execution_count": null,
      "metadata": {
        "id": "Nv1qVftpObJx"
      },
      "outputs": [],
      "source": [
        "!yolo settings wandb=True"
      ]
    },
    {
      "cell_type": "markdown",
      "metadata": {
        "id": "PBZmfH1BOzNs"
      },
      "source": [
        "Importiamo le librerie necessarie:"
      ]
    },
    {
      "cell_type": "code",
      "execution_count": null,
      "metadata": {
        "id": "aKJtO7QKOyWG"
      },
      "outputs": [],
      "source": [
        "from ultralytics import YOLO\n",
        "import wandb\n",
        "from dotenv import load_dotenv\n",
        "import os\n",
        "import pandas as pd\n"
      ]
    },
    {
      "cell_type": "markdown",
      "metadata": {
        "id": "HeVzQRK3Pcj7"
      },
      "source": [
        "Autentichiamo il nostro script Python con Weights & Biases (wandb) utilizzando l' API key personale."
      ]
    },
    {
      "cell_type": "code",
      "execution_count": null,
      "metadata": {
        "id": "BFcTgET8PWzf"
      },
      "outputs": [],
      "source": [
        "load_dotenv()\n",
        "wandb.login(key=os.environ[\"WANDB_API_KEY\"])"
      ]
    },
    {
      "cell_type": "markdown",
      "metadata": {
        "id": "-RunHv-WO7d6"
      },
      "source": [
        "Spacchettiamo il file .zip contenente il dataset:"
      ]
    },
    {
      "cell_type": "code",
      "execution_count": null,
      "metadata": {
        "id": "yhjt8kVrO-vB"
      },
      "outputs": [],
      "source": [
        "#solo su colab\n",
        "#!unzip -q /content/drive/MyDrive/.zip"
      ]
    },
    {
      "cell_type": "markdown",
      "metadata": {
        "id": "byMuY17qP8Dv"
      },
      "source": [
        "Definiamo alcune variabili di configurazione necessarie per eseguire gli esperimenti con YOLO:"
      ]
    },
    {
      "cell_type": "markdown",
      "metadata": {
        "id": "R3Ks4LH2QkRw"
      },
      "source": [
        "A questo punto possiamo avviare la procedura di training e validazione del modello:"
      ]
    },
    {
      "cell_type": "code",
      "execution_count": null,
      "metadata": {
        "id": "45Y6102GPF6g"
      },
      "outputs": [],
      "source": [
        "model_name = 'yolo12m.pt'\n",
        "\n",
        "model = YOLO(model_name)\n",
        "model.train(\n",
        "    cfg = 'train_settings_template.yaml'\n",
        ")"
      ]
    },
    {
      "cell_type": "code",
      "execution_count": null,
      "metadata": {},
      "outputs": [],
      "source": [
        "model = YOLO(\"path_modello_allenato.pt\")"
      ]
    },
    {
      "cell_type": "markdown",
      "metadata": {
        "id": "uuabqtNaROAg"
      },
      "source": [
        "Utilizziamo il modello allenato per fare inferenza sui dati di test:"
      ]
    },
    {
      "cell_type": "code",
      "execution_count": null,
      "metadata": {
        "id": "irnVoJuKRXKD"
      },
      "outputs": [],
      "source": [
        "results_test = model.predict(source='path_dataset_yolo', # immagini o video\n",
        "                             conf=0.25, # imposta una soglia di confidenza\n",
        "                             device=0, # usa la GPU\n",
        "                             save=True) #salva le predizioni"
      ]
    },
    {
      "cell_type": "markdown",
      "metadata": {
        "id": "OJtQ1XNwQ62C"
      },
      "source": [
        "Valutiamo quantitativamente il modello sul test set visualizzando le metriche:"
      ]
    },
    {
      "cell_type": "code",
      "execution_count": null,
      "metadata": {
        "id": "3BlOuBARQ9n9"
      },
      "outputs": [],
      "source": [
        "metrics = model.val(data='path',\n",
        "          imgsz=416 , conf=0.25, #da modificare imgsz in base al modello\n",
        "          device=0, split='test',\n",
        "          project = 'path')\n",
        "\n",
        "results_dict = metrics.results_dict\n",
        "results_dict['F1'] = 2 * (results_dict['metrics/precision(B)'] * results_dict['metrics/recall(B)']) / (results_dict['metrics/precision(B)'] + results_dict['metrics/recall(B)'])\n",
        "pd.DataFrame(results_dict, index=[0]).to_csv(\"path/test_metrics.csv\")"
      ]
    }
  ],
  "metadata": {
    "colab": {
      "provenance": []
    },
    "kernelspec": {
      "display_name": "ml",
      "language": "python",
      "name": "python3"
    },
    "language_info": {
      "codemirror_mode": {
        "name": "ipython",
        "version": 3
      },
      "file_extension": ".py",
      "mimetype": "text/x-python",
      "name": "python",
      "nbconvert_exporter": "python",
      "pygments_lexer": "ipython3",
      "version": "3.10.16"
    }
  },
  "nbformat": 4,
  "nbformat_minor": 0
}
